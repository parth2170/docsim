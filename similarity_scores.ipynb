{
 "cells": [
  {
   "cell_type": "code",
   "execution_count": 1,
   "metadata": {},
   "outputs": [],
   "source": [
    "import matplotlib.pyplot as plt\n",
    "import numpy as np\n",
    "import pandas as pd\n",
    "from sklearn.metrics import precision_recall_curve\n",
    "from sklearn.utils.fixes import signature\n",
    "from sklearn.metrics import average_precision_score\n",
    "from sklearn.metrics import roc_auc_score\n",
    "import gensim\n",
    "from scipy import stats\n",
    "from tqdm import tqdm\n",
    "import pickle\n",
    "from scipy import spatial"
   ]
  },
  {
   "cell_type": "code",
   "execution_count": 2,
   "metadata": {},
   "outputs": [
    {
     "ename": "FileNotFoundError",
     "evalue": "[Errno 2] No such file or directory: 'saved/node2vec_negsim128.txt'",
     "output_type": "error",
     "traceback": [
      "\u001b[0;31m---------------------------------------------------------------------------\u001b[0m",
      "\u001b[0;31mFileNotFoundError\u001b[0m                         Traceback (most recent call last)",
      "\u001b[0;32m<ipython-input-2-e05b7fb9df28>\u001b[0m in \u001b[0;36m<module>\u001b[0;34m()\u001b[0m\n\u001b[1;32m      9\u001b[0m     \u001b[0;32mreturn\u001b[0m \u001b[0mscores\u001b[0m\u001b[0;34m\u001b[0m\u001b[0m\n\u001b[1;32m     10\u001b[0m \u001b[0;34m\u001b[0m\u001b[0m\n\u001b[0;32m---> 11\u001b[0;31m \u001b[0mneg_scores\u001b[0m \u001b[0;34m=\u001b[0m \u001b[0mnp\u001b[0m\u001b[0;34m.\u001b[0m\u001b[0mabsolute\u001b[0m\u001b[0;34m(\u001b[0m\u001b[0mnp\u001b[0m\u001b[0;34m.\u001b[0m\u001b[0marray\u001b[0m\u001b[0;34m(\u001b[0m\u001b[0mget_scores\u001b[0m\u001b[0;34m(\u001b[0m\u001b[0;34m'saved/node2vec_negsim128.txt'\u001b[0m\u001b[0;34m)\u001b[0m\u001b[0;34m)\u001b[0m\u001b[0;34m)\u001b[0m\u001b[0;34m\u001b[0m\u001b[0m\n\u001b[0m\u001b[1;32m     12\u001b[0m \u001b[0mpos_scores\u001b[0m \u001b[0;34m=\u001b[0m \u001b[0mnp\u001b[0m\u001b[0;34m.\u001b[0m\u001b[0mabsolute\u001b[0m\u001b[0;34m(\u001b[0m\u001b[0mnp\u001b[0m\u001b[0;34m.\u001b[0m\u001b[0marray\u001b[0m\u001b[0;34m(\u001b[0m\u001b[0mget_scores\u001b[0m\u001b[0;34m(\u001b[0m\u001b[0;34m'saved/node2vec_possim128.txt'\u001b[0m\u001b[0;34m)\u001b[0m\u001b[0;34m)\u001b[0m\u001b[0;34m)\u001b[0m\u001b[0;34m\u001b[0m\u001b[0m\n\u001b[1;32m     13\u001b[0m \u001b[0mscores\u001b[0m \u001b[0;34m=\u001b[0m \u001b[0;34m{\u001b[0m\u001b[0;34m'pred'\u001b[0m \u001b[0;34m:\u001b[0m \u001b[0mneg_scores\u001b[0m\u001b[0;34m.\u001b[0m\u001b[0mtolist\u001b[0m\u001b[0;34m(\u001b[0m\u001b[0;34m)\u001b[0m\u001b[0;34m,\u001b[0m \u001b[0;34m'actual'\u001b[0m \u001b[0;34m:\u001b[0m \u001b[0mnp\u001b[0m\u001b[0;34m.\u001b[0m\u001b[0mzeros\u001b[0m\u001b[0;34m(\u001b[0m\u001b[0mlen\u001b[0m\u001b[0;34m(\u001b[0m\u001b[0mneg_scores\u001b[0m\u001b[0;34m)\u001b[0m\u001b[0;34m)\u001b[0m\u001b[0;34m.\u001b[0m\u001b[0mtolist\u001b[0m\u001b[0;34m(\u001b[0m\u001b[0;34m)\u001b[0m\u001b[0;34m}\u001b[0m\u001b[0;34m\u001b[0m\u001b[0m\n",
      "\u001b[0;32m<ipython-input-2-e05b7fb9df28>\u001b[0m in \u001b[0;36mget_scores\u001b[0;34m(path)\u001b[0m\n\u001b[1;32m      1\u001b[0m \u001b[0;32mdef\u001b[0m \u001b[0mget_scores\u001b[0m\u001b[0;34m(\u001b[0m\u001b[0mpath\u001b[0m\u001b[0;34m)\u001b[0m\u001b[0;34m:\u001b[0m\u001b[0;34m\u001b[0m\u001b[0m\n\u001b[0;32m----> 2\u001b[0;31m     \u001b[0;32mwith\u001b[0m \u001b[0mopen\u001b[0m\u001b[0;34m(\u001b[0m\u001b[0mpath\u001b[0m\u001b[0;34m,\u001b[0m \u001b[0;34m'r'\u001b[0m\u001b[0;34m)\u001b[0m \u001b[0;32mas\u001b[0m \u001b[0mfile\u001b[0m\u001b[0;34m:\u001b[0m\u001b[0;34m\u001b[0m\u001b[0m\n\u001b[0m\u001b[1;32m      3\u001b[0m         \u001b[0mi\u001b[0m \u001b[0;34m=\u001b[0m \u001b[0;36m1\u001b[0m\u001b[0;34m\u001b[0m\u001b[0m\n\u001b[1;32m      4\u001b[0m         \u001b[0mscores\u001b[0m \u001b[0;34m=\u001b[0m \u001b[0;34m[\u001b[0m\u001b[0;34m]\u001b[0m\u001b[0;34m\u001b[0m\u001b[0m\n\u001b[1;32m      5\u001b[0m         \u001b[0;32mfor\u001b[0m \u001b[0mline\u001b[0m \u001b[0;32min\u001b[0m \u001b[0mfile\u001b[0m\u001b[0;34m:\u001b[0m\u001b[0;34m\u001b[0m\u001b[0m\n",
      "\u001b[0;31mFileNotFoundError\u001b[0m: [Errno 2] No such file or directory: 'saved/node2vec_negsim128.txt'"
     ]
    }
   ],
   "source": [
    "def get_scores(path):\n",
    "    with open(path, 'r') as file:\n",
    "        i = 1\n",
    "        scores = []\n",
    "        for line in file:\n",
    "            if i%2 == 0:\n",
    "                scores.append(float(line[1:-1]))\n",
    "            i += 1\n",
    "    return scores\n",
    "\n",
    "neg_scores = np.absolute(np.array(get_scores('saved/node2vec_negsim128.txt')))\n",
    "pos_scores = np.absolute(np.array(get_scores('saved/node2vec_possim128.txt')))\n",
    "scores = {'pred' : neg_scores.tolist(), 'actual' : np.zeros(len(neg_scores)).tolist()}\n",
    "scores['pred'].extend(pos_scores.tolist())\n",
    "scores['actual'].extend(np.ones(len(pos_scores)).tolist())"
   ]
  },
  {
   "cell_type": "code",
   "execution_count": 3,
   "metadata": {},
   "outputs": [
    {
     "data": {
      "text/html": [
       "<div>\n",
       "<style scoped>\n",
       "    .dataframe tbody tr th:only-of-type {\n",
       "        vertical-align: middle;\n",
       "    }\n",
       "\n",
       "    .dataframe tbody tr th {\n",
       "        vertical-align: top;\n",
       "    }\n",
       "\n",
       "    .dataframe thead th {\n",
       "        text-align: right;\n",
       "    }\n",
       "</style>\n",
       "<table border=\"1\" class=\"dataframe\">\n",
       "  <thead>\n",
       "    <tr style=\"text-align: right;\">\n",
       "      <th></th>\n",
       "      <th>pred</th>\n",
       "      <th>actual</th>\n",
       "    </tr>\n",
       "  </thead>\n",
       "  <tbody>\n",
       "    <tr>\n",
       "      <th>0</th>\n",
       "      <td>0.365787</td>\n",
       "      <td>0.0</td>\n",
       "    </tr>\n",
       "    <tr>\n",
       "      <th>1</th>\n",
       "      <td>0.587276</td>\n",
       "      <td>0.0</td>\n",
       "    </tr>\n",
       "    <tr>\n",
       "      <th>2</th>\n",
       "      <td>0.271562</td>\n",
       "      <td>0.0</td>\n",
       "    </tr>\n",
       "    <tr>\n",
       "      <th>3</th>\n",
       "      <td>0.063177</td>\n",
       "      <td>0.0</td>\n",
       "    </tr>\n",
       "    <tr>\n",
       "      <th>4</th>\n",
       "      <td>0.072655</td>\n",
       "      <td>0.0</td>\n",
       "    </tr>\n",
       "  </tbody>\n",
       "</table>\n",
       "</div>"
      ],
      "text/plain": [
       "       pred  actual\n",
       "0  0.365787     0.0\n",
       "1  0.587276     0.0\n",
       "2  0.271562     0.0\n",
       "3  0.063177     0.0\n",
       "4  0.072655     0.0"
      ]
     },
     "execution_count": 3,
     "metadata": {},
     "output_type": "execute_result"
    }
   ],
   "source": [
    "df = pd.DataFrame(scores)\n",
    "df.head()"
   ]
  },
  {
   "cell_type": "code",
   "execution_count": 4,
   "metadata": {},
   "outputs": [
    {
     "name": "stderr",
     "output_type": "stream",
     "text": [
      "/anaconda3/lib/python3.6/site-packages/matplotlib/axes/_axes.py:6462: UserWarning: The 'normed' kwarg is deprecated, and has been replaced by the 'density' kwarg.\n",
      "  warnings.warn(\"The 'normed' kwarg is deprecated, and has been \"\n"
     ]
    },
    {
     "data": {
      "image/png": "[encoded data removed]",
      "text/plain": [
       "<Figure size 1332x756 with 2 Axes>"
      ]
     },
     "metadata": {},
     "output_type": "display_data"
    },
    {
     "name": "stdout",
     "output_type": "stream",
     "text": [
      "Negative Similarity\n",
      "Total cases = 140\n",
      "Max Similarity = 0.6555617\n",
      "Min Similarity = 0.0022817068\n",
      "Average Similarity = 0.22013131046357146\n",
      "\n",
      "Positive Similarity\n",
      "Total cases = 729\n",
      "Max Similarity = 1.0\n",
      "Min Similarity = 0.00022356026\n",
      "Average Similarity = 0.2962184627283402\n"
     ]
    }
   ],
   "source": [
    "fig, axs = plt.subplots(1, 2, constrained_layout=False)\n",
    "fig.set_size_inches(18.5, 10.5)\n",
    "axs[0].hist(neg_scores, normed=True, bins=100)\n",
    "axs[0].set_title('Negative scores distribution')\n",
    "axs[0].set_ylabel('count')\n",
    "axs[0].set_xlabel('similarity-value')\n",
    "\n",
    "axs[1].hist(pos_scores, normed=True, bins=100)\n",
    "axs[1].set_title('Positive scores distribution')\n",
    "axs[1].set_ylabel('count')\n",
    "axs[1].set_xlabel('similarity-value')\n",
    "plt.show()\n",
    "\n",
    "print('Negative Similarity')\n",
    "print('Total cases = {}'.format(len(neg_scores)))\n",
    "print('Max Similarity = {}'.format(np.max(neg_scores)))\n",
    "print('Min Similarity = {}'.format(np.min(neg_scores)))\n",
    "print('Average Similarity = {}'.format(np.mean(neg_scores)))\n",
    "\n",
    "\n",
    "print('\\nPositive Similarity')\n",
    "print('Total cases = {}'.format(len(pos_scores)))\n",
    "print('Max Similarity = {}'.format(np.max(pos_scores)))\n",
    "print('Min Similarity = {}'.format(np.min(pos_scores)))\n",
    "print('Average Similarity = {}'.format(np.mean(pos_scores)))"
   ]
  },
  {
   "cell_type": "code",
   "execution_count": 5,
   "metadata": {},
   "outputs": [
    {
     "name": "stdout",
     "output_type": "stream",
     "text": [
      "Area under curve = 0.5496766607877719\n"
     ]
    },
    {
     "data": {
      "image/png": "[encoded data removed]",
      "text/plain": [
       "<Figure size 432x288 with 1 Axes>"
      ]
     },
     "metadata": {},
     "output_type": "display_data"
    }
   ],
   "source": [
    "average_precision = average_precision_score(df['actual'], df['pred'])\n",
    "precision, recall, thresh = precision_recall_curve(df['actual'], df['pred'])\n",
    "\n",
    "# In matplotlib < 1.5, plt.fill_between does not have a 'step' argument\n",
    "step_kwargs = ({'step': 'post'}\n",
    "               if 'step' in signature(plt.fill_between).parameters\n",
    "               else {})\n",
    "plt.step(recall, precision, color='b', alpha=0.2,\n",
    "         where='post')\n",
    "plt.fill_between(recall, precision, alpha=0.2, color='b', **step_kwargs)\n",
    "\n",
    "plt.xlabel('Recall')\n",
    "plt.ylabel('Precision')\n",
    "plt.ylim([0.0, 1.05])\n",
    "plt.xlim([0.0, 1.0])\n",
    "plt.title('2-class Precision-Recall curve: AP={0:0.2f}'.format(\n",
    "          average_precision))\n",
    "print('Area under curve = {}'.format(roc_auc_score(df['actual'], df['pred'])))\n"
   ]
  },
  {
   "cell_type": "code",
   "execution_count": 6,
   "metadata": {},
   "outputs": [
    {
     "data": {
      "image/png": "[encoded data removed]",
      "text/plain": [
       "<Figure size 432x288 with 1 Axes>"
      ]
     },
     "metadata": {},
     "output_type": "display_data"
    }
   ],
   "source": [
    "from sklearn.metrics import roc_curve, auc\n",
    "n_classes = 2\n",
    "fpr = dict()\n",
    "tpr = dict()\n",
    "roc_auc = dict()\n",
    "for i in range(n_classes):\n",
    "    fpr[i], tpr[i], _ = roc_curve(df['actual'], df['pred'])\n",
    "    roc_auc[i] = auc(fpr[i], tpr[i])\n",
    "\n",
    "plt.figure()\n",
    "lw = 2\n",
    "plt.plot(fpr[0], tpr[0], color='darkorange',\n",
    "         lw=lw, label='ROC curve (area = %0.2f)' % roc_auc[0])\n",
    "\n",
    "plt.plot([0, 1], [0, 1], color='navy', lw=lw, linestyle='--')\n",
    "plt.xlim([0.0, 1.0])\n",
    "plt.ylim([0.0, 1.05])\n",
    "plt.xlabel('False Positive Rate')\n",
    "plt.ylabel('True Positive Rate')\n",
    "plt.title('Receiver operating characteristic example')\n",
    "plt.legend(loc=\"lower right\")\n",
    "plt.show()\n",
    "\n",
    "# Compute micro-average ROC curve and ROC area\n",
    "fpr[\"micro\"], tpr[\"micro\"], _ = roc_curve(df['actual'].ravel(), df['pred'].ravel())\n",
    "roc_auc[\"micro\"] = auc(fpr[\"micro\"], tpr[\"micro\"])\n"
   ]
  },
  {
   "cell_type": "code",
   "execution_count": 35,
   "metadata": {},
   "outputs": [],
   "source": [
    "def scores(modelp, path, meta):\n",
    "    ann = []\n",
    "    text = []\n",
    "    net = []\n",
    "    if meta != 1:\n",
    "        model = gensim.models.Word2Vec.load(modelp)\n",
    "    foo = open('saved/similarity_scores_test.txt', 'w')\n",
    "    with open(path) as file:\n",
    "        for line in file:\n",
    "            temp = line.split()\n",
    "            case1, case2 = temp[0], temp[1]\n",
    "            try:\n",
    "                if meta == 1:\n",
    "                    sim = 1 - spatial.distance.cosine(cases[case1], cases[case2])\n",
    "                else:\n",
    "                    sim = model.wv.similarity(case1, case2)\n",
    "                net.append(sim)\n",
    "                ann.append(float(temp[2]))\n",
    "                text.append(float(temp[3]))\n",
    "            except:\n",
    "                continue\n",
    "            outline = line[:-1] + ' ' + str(sim) +'\\n'\n",
    "            foo.write(outline)\n",
    "    foo.close()\n",
    "    print('-----Correlations-----')\n",
    "    print('Text - Annotated = {}'.format(np.corrcoef(text, ann)[0][1]))\n",
    "    print('Text - Network = {}'.format(np.corrcoef(text, net)[0][1]))\n",
    "    print('Network - Annotated = {}'.format(np.corrcoef(net, ann)[0][1]))\n",
    "    print('-----T-Test-----')\n",
    "    print('Text - Network = {}'.format(stats.ttest_ind(text, net, equal_var = False)))\n",
    "    print('Variance of Text scores = {}'.format(np.var(text)))\n",
    "    print('Variance of net scores = {}'.format(np.var(net)))\n",
    "    \n"
   ]
  },
  {
   "cell_type": "code",
   "execution_count": 6,
   "metadata": {},
   "outputs": [
    {
     "name": "stdout",
     "output_type": "stream",
     "text": [
      "1 When trained on complete network\n",
      "\n",
      "---------------+---------------\n",
      "\n",
      "2 When trained only on test-network\n",
      "-----Correlations-----\n",
      "Text - Annotated = 0.6799924765477332\n",
      "Text - Network = 0.3941266951916733\n",
      "Network - Annotated = 0.18881296597618782\n",
      "-----T-Test-----\n",
      "Text - Network = Ttest_indResult(statistic=3.110553216449797, pvalue=0.002548539768314992)\n",
      "Variance of Text scores = 0.03752368100189036\n",
      "Variance of net scores = 0.06407313048839569\n"
     ]
    },
    {
     "name": "stderr",
     "output_type": "stream",
     "text": [
      "/anaconda3/lib/python3.6/site-packages/gensim/matutils.py:737: FutureWarning: Conversion of the second argument of issubdtype from `int` to `np.signedinteger` is deprecated. In future, it will be treated as `np.int64 == np.dtype(int).type`.\n",
      "  if np.issubdtype(vec.dtype, np.int):\n"
     ]
    }
   ],
   "source": [
    "print('1 When trained on complete network')\n",
    "#scores('saved/node2vec.model128', 'sample/test_scores.txt', 0)\n",
    "print('\\n---------------+---------------\\n')\n",
    "print('2 When trained only on test-network')\n",
    "scores('saved/smallnode2vec.model128', 'sample/test_scores.txt', 0)"
   ]
  },
  {
   "cell_type": "code",
   "execution_count": 37,
   "metadata": {},
   "outputs": [],
   "source": [
    "def read_meta_feat(path, ca):\n",
    "    cases = {}\n",
    "    with open(path, 'rb') as file:\n",
    "        i = 0\n",
    "        for line in tqdm(file):\n",
    "            if i <= 1:\n",
    "                i += 1\n",
    "                continue\n",
    "            i += 1\n",
    "            temp = line.decode()\n",
    "            temp = temp.split()\n",
    "            try:\n",
    "                ca[temp[0]]\n",
    "                cases[temp[0]] = [float(j) for j in temp[1:]]\n",
    "            except KeyError as error:\n",
    "                continue\n",
    "    print('Cases = {}'.format(len(cases)))\n",
    "    return cases"
   ]
  },
  {
   "cell_type": "code",
   "execution_count": 38,
   "metadata": {},
   "outputs": [
    {
     "name": "stderr",
     "output_type": "stream",
     "text": [
      "111it [00:00, 14283.41it/s]"
     ]
    },
    {
     "name": "stdout",
     "output_type": "stream",
     "text": [
      "Cases = 59\n"
     ]
    },
    {
     "name": "stderr",
     "output_type": "stream",
     "text": [
      "\n"
     ]
    }
   ],
   "source": [
    "path = '/Users/deepthought/code/docsim/saved/metapath2vec_embeddings.txt'\n",
    "small_path = '/Users/deepthought/code/docsim/saved/small_metapath2vec_embeddings.txt'\n",
    "with open('saved/smallcase_act_sec_dict.pickle', 'rb') as file:\n",
    "        ca = pickle.load(file)\n",
    "cases = read_meta_feat(path = small_path, ca = ca)"
   ]
  },
  {
   "cell_type": "code",
   "execution_count": 39,
   "metadata": {},
   "outputs": [
    {
     "name": "stdout",
     "output_type": "stream",
     "text": [
      "1 When trained on complete network\n",
      "-----Correlations-----\n",
      "Text - Annotated = 0.6799924765477332\n",
      "Text - Network = 0.14757388567596638\n",
      "Network - Annotated = -0.040961480861899525\n",
      "-----T-Test-----\n",
      "Text - Network = Ttest_indResult(statistic=-15.018555494237768, pvalue=2.963193618417006e-25)\n",
      "Variance of Text scores = 0.03752368100189036\n",
      "Variance of net scores = 0.019653564643311746\n",
      "\n",
      "---------------+---------------\n",
      "\n",
      "2 When trained only on test-network\n",
      "-----Correlations-----\n",
      "Text - Annotated = 0.6799924765477332\n",
      "Text - Network = 0.14757388567596638\n",
      "Network - Annotated = -0.040961480861899525\n",
      "-----T-Test-----\n",
      "Text - Network = Ttest_indResult(statistic=-15.018555494237768, pvalue=2.963193618417006e-25)\n",
      "Variance of Text scores = 0.03752368100189036\n",
      "Variance of net scores = 0.019653564643311746\n"
     ]
    }
   ],
   "source": [
    "print('1 When trained on complete network')\n",
    "scores('saved/node2vec.model128', 'sample/test_scores.txt', 1)\n",
    "print('\\n---------------+---------------\\n')\n",
    "print('2 When trained only on test-network')\n",
    "scores('saved/smallnode2vec.model128', 'sample/test_scores.txt', 1)"
   ]
  },
  {
   "cell_type": "code",
   "execution_count": null,
   "metadata": {},
   "outputs": [],
   "source": []
  }
 ],
 "metadata": {
  "kernelspec": {
   "display_name": "Python 3",
   "language": "python",
   "name": "python3"
  },
  "language_info": {
   "codemirror_mode": {
    "name": "ipython",
    "version": 3
   },
   "file_extension": ".py",
   "mimetype": "text/x-python",
   "name": "python",
   "nbconvert_exporter": "python",
   "pygments_lexer": "ipython3",
   "version": "3.6.5"
  }
 },
 "nbformat": 4,
 "nbformat_minor": 2
}
