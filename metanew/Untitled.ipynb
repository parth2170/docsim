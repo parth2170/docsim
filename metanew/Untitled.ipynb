{
 "cells": [
  {
   "cell_type": "code",
   "execution_count": 1,
   "metadata": {},
   "outputs": [
    {
     "name": "stderr",
     "output_type": "stream",
     "text": [
      "/Users/vakuli/anaconda/lib/python3.6/site-packages/h5py/__init__.py:34: FutureWarning: Conversion of the second argument of issubdtype from `float` to `np.floating` is deprecated. In future, it will be treated as `np.float64 == np.dtype(float).type`.\n",
      "  from ._conv import register_converters as _register_converters\n",
      "Using TensorFlow backend.\n"
     ]
    }
   ],
   "source": [
    "import matplotlib.pyplot as plt\n",
    "import numpy as np\n",
    "import pandas as pd\n",
    "from sklearn.metrics import precision_recall_curve\n",
    "from sklearn.utils.fixes import signature\n",
    "from sklearn.metrics import average_precision_score\n",
    "from sklearn.metrics import roc_auc_score\n",
    "from sklearn.metrics import accuracy_score\n",
    "import gensim\n",
    "from scipy import stats\n",
    "from tqdm import tqdm\n",
    "import pickle\n",
    "from scipy import spatial"
   ]
  },
  {
   "cell_type": "code",
   "execution_count": 12,
   "metadata": {},
   "outputs": [],
   "source": [
    "def get_scores(small, cases, types):\n",
    "    ann = []\n",
    "    text = []\n",
    "    net = []\n",
    "    foo = open(small + str(types) + \"meta_sim.txt\", 'w')\n",
    "    with open('similarity_scores_test.txt') as file:\n",
    "        for line in file:\n",
    "            temp = line.split()\n",
    "            case1, case2 = temp[0], temp[1]\n",
    "            try:\n",
    "                sim = 1 - spatial.distance.cosine(cases[case1], cases[case2])\n",
    "                net.append(sim)\n",
    "                ann.append(float(temp[2]))\n",
    "                text.append(float(temp[3]))\n",
    "            except:\n",
    "                continue\n",
    "            outline = case1 + ' ' + case2 + ' ' + str(sim) +'\\n'\n",
    "            foo.write(outline)\n",
    "    foo.close()\n",
    "    #Normalize Annotated score\n",
    "    ann = ann / np.linalg.norm(ann)\n",
    "    print('-----Correlations-----')\n",
    "    print('Text - Annotated = {}'.format(np.corrcoef(text, ann)[0][1]))\n",
    "    print('Text - Network = {}'.format(np.corrcoef(text, net)[0][1]))\n",
    "    print('Network - Annotated = {}'.format(np.corrcoef(net, ann)[0][1]))\n",
    "    "
   ]
  },
  {
   "cell_type": "code",
   "execution_count": 13,
   "metadata": {
    "collapsed": true
   },
   "outputs": [],
   "source": [
    "def read_meta_feat(path, ca):\n",
    "    cases = {}\n",
    "    with open(path, 'rb') as file:\n",
    "        i = 0\n",
    "        for line in tqdm(file):\n",
    "            if i <= 1:\n",
    "                i += 1\n",
    "                continue\n",
    "            i += 1\n",
    "            temp = line.decode()\n",
    "            temp = temp.split()\n",
    "            try:\n",
    "                ca[temp[0]]\n",
    "                cases[temp[0]] = [float(j) for j in temp[1:]]\n",
    "            except KeyError as error:\n",
    "                continue\n",
    "    print('Cases = {}'.format(len(cases)))\n",
    "    return cases"
   ]
  },
  {
   "cell_type": "code",
   "execution_count": 14,
   "metadata": {},
   "outputs": [
    {
     "name": "stderr",
     "output_type": "stream",
     "text": [
      "30982it [00:00, 32248.38it/s]\n",
      "8663it [00:00, 86621.41it/s]"
     ]
    },
    {
     "name": "stdout",
     "output_type": "stream",
     "text": [
      "Cases = 25445\n"
     ]
    },
    {
     "name": "stderr",
     "output_type": "stream",
     "text": [
      "31153it [00:00, 65035.14it/s]\n"
     ]
    },
    {
     "name": "stdout",
     "output_type": "stream",
     "text": [
      "Cases = 25445\n",
      "-----Correlations-----\n",
      "Text - Annotated = 0.6799924765477332\n",
      "Text - Network = 0.2913821657658035\n",
      "Network - Annotated = 0.043132088587376397\n",
      "-----Correlations-----\n",
      "Text - Annotated = 0.6799924765477332\n",
      "Text - Network = 0.2314990492925961\n",
      "Network - Annotated = -0.01153713673623223\n"
     ]
    }
   ],
   "source": [
    "with open('cs.pickle', 'rb') as file:\n",
    "        ca = pickle.load(file)\n",
    "cases1 = read_meta_feat(path = 'metabig_emb1.txt', ca = ca)\n",
    "cases2 = read_meta_feat(path = 'metabig_emb2.txt', ca = ca)\n",
    "get_scores(small = \"big\", cases = cases1, types = 1)\n",
    "get_scores(small = \"big\", cases = cases2, types = 2)"
   ]
  },
  {
   "cell_type": "code",
   "execution_count": null,
   "metadata": {
    "collapsed": true
   },
   "outputs": [],
   "source": []
  }
 ],
 "metadata": {
  "kernelspec": {
   "display_name": "Python 3",
   "language": "python",
   "name": "python3"
  },
  "language_info": {
   "codemirror_mode": {
    "name": "ipython",
    "version": 3
   },
   "file_extension": ".py",
   "mimetype": "text/x-python",
   "name": "python",
   "nbconvert_exporter": "python",
   "pygments_lexer": "ipython3",
   "version": "3.6.1"
  }
 },
 "nbformat": 4,
 "nbformat_minor": 2
}
